{
  "cells": [
    {
      "cell_type": "markdown",
      "metadata": {
        "id": "view-in-github",
        "colab_type": "text"
      },
      "source": [
        "<a href=\"https://colab.research.google.com/github/Fouad-Khelil/Fouad-Khelil/blob/main/federated_learning_tensorflow.ipynb\" target=\"_parent\"><img src=\"https://colab.research.google.com/assets/colab-badge.svg\" alt=\"Open In Colab\"/></a>"
      ]
    },
    {
      "cell_type": "markdown",
      "metadata": {
        "id": "LVYF1tbRrkG9"
      },
      "source": [
        "Code Adapted from: [Link](https://www.tensorflow.org/federated/tutorials/federated_learning_for_image_classification)"
      ]
    },
    {
      "cell_type": "code",
      "source": [
        "import warnings\n",
        "warnings.filterwarnings('ignore')"
      ],
      "metadata": {
        "id": "eunUnZo-abpW"
      },
      "execution_count": null,
      "outputs": []
    },
    {
      "cell_type": "code",
      "execution_count": null,
      "metadata": {
        "id": "Wet9m9h2buBI"
      },
      "outputs": [],
      "source": [
        "! pip install -q tensorflow_federated"
      ]
    },
    {
      "cell_type": "code",
      "execution_count": null,
      "metadata": {
        "id": "iOeDKI8gZxmC"
      },
      "outputs": [],
      "source": [
        "from __future__ import absolute_import, division, print_function\n",
        "\n",
        "\n",
        "import collections\n",
        "from six.moves import range\n",
        "import numpy as np\n",
        "import tensorflow as tf\n",
        "from tensorflow.python.keras.optimizer_v2 import gradient_descent\n",
        "from tensorflow_federated import python as tff\n",
        "import matplotlib.pyplot as plt\n",
        "%matplotlib inline\n",
        "\n",
        "from tensorflow.python.util import nest\n",
        "\n",
        "np.random.seed(0)\n",
        "\n",
        "tf.compat.v1.enable_v2_behavior()"
      ]
    },
    {
      "cell_type": "markdown",
      "metadata": {
        "id": "uuHyiup5mUTD"
      },
      "source": [
        "## EMNIST Dataset\n",
        "\n",
        "To illustrate the use of FL and TFF, let’s start with one of the most famous image datasets: MNIST. The [original NIST](https://www.nist.gov/srd/nist-special-database-19) dataset, from which MNIST was created, contains images of 810,000 handwritten digits. The traditional way we’d go about it is to apply an ML algorithm to the entire dataset at once. But what if we couldn’t combine all that data together — for example, because the volunteers did not agree to uploading their raw data to a central server?\n",
        "\n",
        "#### MNIST\n",
        "Creating a custom federated training data from MNIST dataset with 60 clients (as 60,000 examples of MNIST).\n",
        "\n",
        "#### EMNIST Data set sizes:\n",
        "\n",
        "*only_digits=True*: 3,383 users, 10 label classes\n",
        "\n",
        "  -   train: 341,873 examples\n",
        "  -   test: 40,832 examples\n",
        "\n",
        "*only_digits=False*: 3,400 users, 62 label classes\n",
        "\n",
        "  -   train: 671,585 examples\n",
        "  -   test: 77,483 examples\n",
        "\n"
      ]
    },
    {
      "cell_type": "code",
      "execution_count": null,
      "metadata": {
        "id": "RBlNzL1SezZk"
      },
      "outputs": [],
      "source": [
        "# load emnist dataset\n",
        "emnist_train, emnist_test = tff.simulation.datasets.emnist.load_data()\n"
      ]
    },
    {
      "cell_type": "code",
      "execution_count": null,
      "metadata": {
        "colab": {
          "base_uri": "https://localhost:8080/"
        },
        "id": "57qUTfNqezdW",
        "outputId": "8e0e3fe7-ffa4-445a-a32b-855edbbcb539"
      },
      "outputs": [
        {
          "output_type": "execute_result",
          "data": {
            "text/plain": [
              "3383"
            ]
          },
          "metadata": {},
          "execution_count": 5
        }
      ],
      "source": [
        "# number of clients\n",
        "len(emnist_train.client_ids)"
      ]
    },
    {
      "cell_type": "code",
      "execution_count": null,
      "metadata": {
        "colab": {
          "base_uri": "https://localhost:8080/"
        },
        "id": "_D4ansEcezk7",
        "outputId": "4e92d4fe-c07d-4059-d881-bdef44757d4f"
      },
      "outputs": [
        {
          "output_type": "execute_result",
          "data": {
            "text/plain": [
              "OrderedDict([('label', TensorSpec(shape=(), dtype=tf.int32, name=None)),\n",
              "             ('pixels',\n",
              "              TensorSpec(shape=(28, 28), dtype=tf.float32, name=None))])"
            ]
          },
          "metadata": {},
          "execution_count": 6
        }
      ],
      "source": [
        "# output types and shapes\n",
        "emnist_train.element_type_structure"
      ]
    },
    {
      "cell_type": "markdown",
      "metadata": {
        "id": "433FJh2QnGoG"
      },
      "source": [
        "### Sample Example from Dataset"
      ]
    },
    {
      "cell_type": "code",
      "execution_count": null,
      "metadata": {
        "colab": {
          "base_uri": "https://localhost:8080/"
        },
        "id": "CZu---DtezhJ",
        "outputId": "5970f8c7-f3ed-4013-8575-2df360d60844"
      },
      "outputs": [
        {
          "output_type": "execute_result",
          "data": {
            "text/plain": [
              "4"
            ]
          },
          "metadata": {},
          "execution_count": 7
        }
      ],
      "source": [
        "#get one example from client:0\n",
        "example_dataset = emnist_train.create_tf_dataset_for_client(emnist_train.client_ids[10])\n",
        "\n",
        "example_element = iter(example_dataset).next()\n",
        "\n",
        "example_element['label'].numpy()"
      ]
    },
    {
      "cell_type": "code",
      "execution_count": null,
      "metadata": {
        "colab": {
          "base_uri": "https://localhost:8080/",
          "height": 430
        },
        "id": "D1gA7Pugezn8",
        "outputId": "9f0f3d91-0b6d-46f9-c734-b2d590ea6f98"
      },
      "outputs": [
        {
          "output_type": "display_data",
          "data": {
            "text/plain": [
              "<Figure size 640x480 with 1 Axes>"
            ],
            "image/png": "[encoded data removed]"
          },
          "metadata": {}
        }
      ],
      "source": [
        "plt.imshow(example_element['pixels'].numpy(), cmap='gray', aspect='equal')\n",
        "plt.grid(False)\n",
        "plt.show()"
      ]
    },
    {
      "cell_type": "markdown",
      "metadata": {
        "id": "WRJEVFL3nfNs"
      },
      "source": [
        "### Preprocess data and create Keras model\n",
        "\n",
        "What we'll do  is sample the set of clients once, and reuse the same set across rounds to speed up convergence (intentionally over-fitting to these few user's data)."
      ]
    },
    {
      "cell_type": "code",
      "execution_count": null,
      "metadata": {
        "id": "v5HeXDFKZ1VC"
      },
      "outputs": [],
      "source": [
        "NUM_EPOCHS = 10\n",
        "BATCH_SIZE = 20\n",
        "SHUFFLE_BUFFER = 500\n",
        "\n",
        "\n",
        "def preprocess(dataset):\n",
        "\n",
        "  def element_fn(element):\n",
        "    return collections.OrderedDict([\n",
        "        ('x', tf.reshape(element['pixels'], [-1])),\n",
        "        ('y', tf.reshape(element['label'], [1])),\n",
        "    ])\n",
        "\n",
        "  return dataset.repeat(NUM_EPOCHS).map(element_fn).shuffle(SHUFFLE_BUFFER).batch(BATCH_SIZE)\n"
      ]
    },
    {
      "cell_type": "code",
      "execution_count": null,
      "metadata": {
        "colab": {
          "base_uri": "https://localhost:8080/"
        },
        "id": "3Sq5Yyw1Z1ZO",
        "outputId": "632cf749-5ff6-4e95-e5d8-66871ceb9623"
      },
      "outputs": [
        {
          "output_type": "stream",
          "name": "stdout",
          "text": [
            "OrderedDict([('x', array([[1., 1., 1., ..., 1., 1., 1.],\n",
            "       [1., 1., 1., ..., 1., 1., 1.],\n",
            "       [1., 1., 1., ..., 1., 1., 1.],\n",
            "       ...,\n",
            "       [1., 1., 1., ..., 1., 1., 1.],\n",
            "       [1., 1., 1., ..., 1., 1., 1.],\n",
            "       [1., 1., 1., ..., 1., 1., 1.]], dtype=float32)), ('y', array([[0],\n",
            "       [1],\n",
            "       [0],\n",
            "       [6],\n",
            "       [9],\n",
            "       [4],\n",
            "       [1],\n",
            "       [4],\n",
            "       [0],\n",
            "       [7],\n",
            "       [5],\n",
            "       [9],\n",
            "       [0],\n",
            "       [3],\n",
            "       [3],\n",
            "       [7],\n",
            "       [2],\n",
            "       [3],\n",
            "       [8],\n",
            "       [8]], dtype=int32))])\n"
          ]
        }
      ],
      "source": [
        "#print sample batch\n",
        "preprocessed_example_dataset = preprocess(example_dataset)\n",
        "\n",
        "sample_batch = nest.map_structure(lambda x: x.numpy(), iter(preprocessed_example_dataset).next())\n",
        "\n",
        "print (sample_batch)"
      ]
    },
    {
      "cell_type": "code",
      "execution_count": null,
      "metadata": {
        "id": "kh1MYEpOpBjl"
      },
      "outputs": [],
      "source": [
        "def make_federated_data(client_data, client_ids):\n",
        "  return [preprocess(client_data.create_tf_dataset_for_client(x)) for x in client_ids]"
      ]
    },
    {
      "cell_type": "code",
      "execution_count": null,
      "metadata": {
        "colab": {
          "base_uri": "https://localhost:8080/"
        },
        "id": "RoBUBJS4nwmh",
        "outputId": "6e9ea824-1072-4999-a0fc-adbeaaf443b7"
      },
      "outputs": [
        {
          "output_type": "stream",
          "name": "stdout",
          "text": [
            "8 <_BatchDataset element_spec=OrderedDict([('x', TensorSpec(shape=(None, 784), dtype=tf.float32, name=None)), ('y', TensorSpec(shape=(None, 1), dtype=tf.int32, name=None))])>\n"
          ]
        }
      ],
      "source": [
        "# sample data for only 8 clients (fixed for now) for each round\n",
        "\n",
        "NUM_CLIENTS = 8\n",
        "\n",
        "sample_clients = emnist_train.client_ids[0:NUM_CLIENTS]\n",
        "\n",
        "federated_train_data = make_federated_data(emnist_train, sample_clients)\n",
        "\n",
        "print (len(federated_train_data), federated_train_data[0])"
      ]
    },
    {
      "cell_type": "code",
      "execution_count": null,
      "metadata": {
        "id": "zA0E7M3Noz76"
      },
      "outputs": [],
      "source": [
        "# create keras model\n",
        "\n",
        "def model_fn():\n",
        "  # dense layer\n",
        "  model = tf.keras.models.Sequential([\n",
        "      tf.keras.layers.Dense(10, activation=tf.nn.softmax, kernel_initializer='zeros', input_shape=(784,))])\n",
        "\n",
        "  return tff.learning.models.from_keras_model(\n",
        "    keras_model=model,\n",
        "    input_spec=federated_train_data[0].element_spec,\n",
        "    loss=tf.keras.losses.SparseCategoricalCrossentropy(),\n",
        "    metrics=[tf.keras.metrics.SparseCategoricalAccuracy()])\n"
      ]
    },
    {
      "cell_type": "code",
      "execution_count": null,
      "metadata": {
        "id": "U_ZKyY-aprOo"
      },
      "outputs": [],
      "source": [
        "# construct a Federated Averaging algorithm by invoking the helper function\n",
        "iterative_process = tff.learning.algorithms.build_weighted_fed_avg(\n",
        "    model_fn,\n",
        "    client_optimizer_fn=lambda: tf.keras.optimizers.SGD(learning_rate=0.02),\n",
        "    server_optimizer_fn=lambda: tf.keras.optimizers.SGD(learning_rate=1.0)\n",
        "    )"
      ]
    },
    {
      "cell_type": "markdown",
      "metadata": {
        "id": "rweaMlbOp33y"
      },
      "source": [
        "TFF has constructed a pair of federated computations and packaged them into a tff.utils.IterativeProcess in which these computations are available as a pair of properties `initialize` and `next`."
      ]
    },
    {
      "cell_type": "code",
      "execution_count": null,
      "metadata": {
        "id": "nMfKoCKcqZ7z"
      },
      "outputs": [],
      "source": [
        "# initialize computation to construct the server state.\n",
        "\n",
        "state = iterative_process.initialize()"
      ]
    },
    {
      "cell_type": "code",
      "execution_count": null,
      "metadata": {
        "colab": {
          "base_uri": "https://localhost:8080/"
        },
        "id": "pbdNdKUQqjhP",
        "outputId": "4d67c9c3-f296-46a9-ab31-86c77c33c90c"
      },
      "outputs": [
        {
          "output_type": "stream",
          "name": "stdout",
          "text": [
            "round (1, OrderedDict([('distributor', ()), ('client_work', OrderedDict([('train', OrderedDict([('sparse_categorical_accuracy', 0.14541936), ('loss', 2.9879026), ('num_examples', 7750), ('num_batches', 391)]))])), ('aggregator', OrderedDict([('mean_value', ()), ('mean_weight', ())])), ('finalizer', OrderedDict([('update_non_finite', 0)]))]))\n",
            "round (2, OrderedDict([('distributor', ()), ('client_work', OrderedDict([('train', OrderedDict([('sparse_categorical_accuracy', 0.18219355), ('loss', 2.7422912), ('num_examples', 7750), ('num_batches', 391)]))])), ('aggregator', OrderedDict([('mean_value', ()), ('mean_weight', ())])), ('finalizer', OrderedDict([('update_non_finite', 0)]))]))\n",
            "round (3, OrderedDict([('distributor', ()), ('client_work', OrderedDict([('train', OrderedDict([('sparse_categorical_accuracy', 0.22722581), ('loss', 2.5213387), ('num_examples', 7750), ('num_batches', 391)]))])), ('aggregator', OrderedDict([('mean_value', ()), ('mean_weight', ())])), ('finalizer', OrderedDict([('update_non_finite', 0)]))]))\n",
            "round (4, OrderedDict([('distributor', ()), ('client_work', OrderedDict([('train', OrderedDict([('sparse_categorical_accuracy', 0.276), ('loss', 2.235751), ('num_examples', 7750), ('num_batches', 391)]))])), ('aggregator', OrderedDict([('mean_value', ()), ('mean_weight', ())])), ('finalizer', OrderedDict([('update_non_finite', 0)]))]))\n",
            "round (5, OrderedDict([('distributor', ()), ('client_work', OrderedDict([('train', OrderedDict([('sparse_categorical_accuracy', 0.36064517), ('loss', 1.9439799), ('num_examples', 7750), ('num_batches', 391)]))])), ('aggregator', OrderedDict([('mean_value', ()), ('mean_weight', ())])), ('finalizer', OrderedDict([('update_non_finite', 0)]))]))\n",
            "round (6, OrderedDict([('distributor', ()), ('client_work', OrderedDict([('train', OrderedDict([('sparse_categorical_accuracy', 0.39535484), ('loss', 1.8434284), ('num_examples', 7750), ('num_batches', 391)]))])), ('aggregator', OrderedDict([('mean_value', ()), ('mean_weight', ())])), ('finalizer', OrderedDict([('update_non_finite', 0)]))]))\n",
            "round (7, OrderedDict([('distributor', ()), ('client_work', OrderedDict([('train', OrderedDict([('sparse_categorical_accuracy', 0.45264515), ('loss', 1.7108216), ('num_examples', 7750), ('num_batches', 391)]))])), ('aggregator', OrderedDict([('mean_value', ()), ('mean_weight', ())])), ('finalizer', OrderedDict([('update_non_finite', 0)]))]))\n",
            "round (8, OrderedDict([('distributor', ()), ('client_work', OrderedDict([('train', OrderedDict([('sparse_categorical_accuracy', 0.5016774), ('loss', 1.565825), ('num_examples', 7750), ('num_batches', 391)]))])), ('aggregator', OrderedDict([('mean_value', ()), ('mean_weight', ())])), ('finalizer', OrderedDict([('update_non_finite', 0)]))]))\n",
            "round (9, OrderedDict([('distributor', ()), ('client_work', OrderedDict([('train', OrderedDict([('sparse_categorical_accuracy', 0.55896777), ('loss', 1.431467), ('num_examples', 7750), ('num_batches', 391)]))])), ('aggregator', OrderedDict([('mean_value', ()), ('mean_weight', ())])), ('finalizer', OrderedDict([('update_non_finite', 0)]))]))\n",
            "round (10, OrderedDict([('distributor', ()), ('client_work', OrderedDict([('train', OrderedDict([('sparse_categorical_accuracy', 0.56709677), ('loss', 1.3895619), ('num_examples', 7750), ('num_batches', 391)]))])), ('aggregator', OrderedDict([('mean_value', ()), ('mean_weight', ())])), ('finalizer', OrderedDict([('update_non_finite', 0)]))]))\n",
            "round (11, OrderedDict([('distributor', ()), ('client_work', OrderedDict([('train', OrderedDict([('sparse_categorical_accuracy', 0.6130323), ('loss', 1.2607749), ('num_examples', 7750), ('num_batches', 391)]))])), ('aggregator', OrderedDict([('mean_value', ()), ('mean_weight', ())])), ('finalizer', OrderedDict([('update_non_finite', 0)]))]))\n",
            "round (12, OrderedDict([('distributor', ()), ('client_work', OrderedDict([('train', OrderedDict([('sparse_categorical_accuracy', 0.64941937), ('loss', 1.1665041), ('num_examples', 7750), ('num_batches', 391)]))])), ('aggregator', OrderedDict([('mean_value', ()), ('mean_weight', ())])), ('finalizer', OrderedDict([('update_non_finite', 0)]))]))\n",
            "round (13, OrderedDict([('distributor', ()), ('client_work', OrderedDict([('train', OrderedDict([('sparse_categorical_accuracy', 0.65406454), ('loss', 1.1365083), ('num_examples', 7750), ('num_batches', 391)]))])), ('aggregator', OrderedDict([('mean_value', ()), ('mean_weight', ())])), ('finalizer', OrderedDict([('update_non_finite', 0)]))]))\n",
            "round (14, OrderedDict([('distributor', ()), ('client_work', OrderedDict([('train', OrderedDict([('sparse_categorical_accuracy', 0.69974196), ('loss', 1.057673), ('num_examples', 7750), ('num_batches', 391)]))])), ('aggregator', OrderedDict([('mean_value', ()), ('mean_weight', ())])), ('finalizer', OrderedDict([('update_non_finite', 0)]))]))\n",
            "round (15, OrderedDict([('distributor', ()), ('client_work', OrderedDict([('train', OrderedDict([('sparse_categorical_accuracy', 0.72219354), ('loss', 1.0078639), ('num_examples', 7750), ('num_batches', 391)]))])), ('aggregator', OrderedDict([('mean_value', ()), ('mean_weight', ())])), ('finalizer', OrderedDict([('update_non_finite', 0)]))]))\n",
            "round (16, OrderedDict([('distributor', ()), ('client_work', OrderedDict([('train', OrderedDict([('sparse_categorical_accuracy', 0.7429677), ('loss', 0.9618094), ('num_examples', 7750), ('num_batches', 391)]))])), ('aggregator', OrderedDict([('mean_value', ()), ('mean_weight', ())])), ('finalizer', OrderedDict([('update_non_finite', 0)]))]))\n",
            "round (17, OrderedDict([('distributor', ()), ('client_work', OrderedDict([('train', OrderedDict([('sparse_categorical_accuracy', 0.7603871), ('loss', 0.9015859), ('num_examples', 7750), ('num_batches', 391)]))])), ('aggregator', OrderedDict([('mean_value', ()), ('mean_weight', ())])), ('finalizer', OrderedDict([('update_non_finite', 0)]))]))\n",
            "round (18, OrderedDict([('distributor', ()), ('client_work', OrderedDict([('train', OrderedDict([('sparse_categorical_accuracy', 0.7643871), ('loss', 0.88655293), ('num_examples', 7750), ('num_batches', 391)]))])), ('aggregator', OrderedDict([('mean_value', ()), ('mean_weight', ())])), ('finalizer', OrderedDict([('update_non_finite', 0)]))]))\n",
            "round (19, OrderedDict([('distributor', ()), ('client_work', OrderedDict([('train', OrderedDict([('sparse_categorical_accuracy', 0.780129), ('loss', 0.84007704), ('num_examples', 7750), ('num_batches', 391)]))])), ('aggregator', OrderedDict([('mean_value', ()), ('mean_weight', ())])), ('finalizer', OrderedDict([('update_non_finite', 0)]))]))\n",
            "round (20, OrderedDict([('distributor', ()), ('client_work', OrderedDict([('train', OrderedDict([('sparse_categorical_accuracy', 0.7979355), ('loss', 0.8163793), ('num_examples', 7750), ('num_batches', 391)]))])), ('aggregator', OrderedDict([('mean_value', ()), ('mean_weight', ())])), ('finalizer', OrderedDict([('update_non_finite', 0)]))]))\n",
            "round (21, OrderedDict([('distributor', ()), ('client_work', OrderedDict([('train', OrderedDict([('sparse_categorical_accuracy', 0.7971613), ('loss', 0.7891163), ('num_examples', 7750), ('num_batches', 391)]))])), ('aggregator', OrderedDict([('mean_value', ()), ('mean_weight', ())])), ('finalizer', OrderedDict([('update_non_finite', 0)]))]))\n",
            "round (22, OrderedDict([('distributor', ()), ('client_work', OrderedDict([('train', OrderedDict([('sparse_categorical_accuracy', 0.81019354), ('loss', 0.7619747), ('num_examples', 7750), ('num_batches', 391)]))])), ('aggregator', OrderedDict([('mean_value', ()), ('mean_weight', ())])), ('finalizer', OrderedDict([('update_non_finite', 0)]))]))\n",
            "round (23, OrderedDict([('distributor', ()), ('client_work', OrderedDict([('train', OrderedDict([('sparse_categorical_accuracy', 0.8064516), ('loss', 0.7527297), ('num_examples', 7750), ('num_batches', 391)]))])), ('aggregator', OrderedDict([('mean_value', ()), ('mean_weight', ())])), ('finalizer', OrderedDict([('update_non_finite', 0)]))]))\n",
            "round (24, OrderedDict([('distributor', ()), ('client_work', OrderedDict([('train', OrderedDict([('sparse_categorical_accuracy', 0.8175484), ('loss', 0.72361135), ('num_examples', 7750), ('num_batches', 391)]))])), ('aggregator', OrderedDict([('mean_value', ()), ('mean_weight', ())])), ('finalizer', OrderedDict([('update_non_finite', 0)]))]))\n",
            "round (25, OrderedDict([('distributor', ()), ('client_work', OrderedDict([('train', OrderedDict([('sparse_categorical_accuracy', 0.82709676), ('loss', 0.69611335), ('num_examples', 7750), ('num_batches', 391)]))])), ('aggregator', OrderedDict([('mean_value', ()), ('mean_weight', ())])), ('finalizer', OrderedDict([('update_non_finite', 0)]))]))\n",
            "round (26, OrderedDict([('distributor', ()), ('client_work', OrderedDict([('train', OrderedDict([('sparse_categorical_accuracy', 0.8294194), ('loss', 0.69212776), ('num_examples', 7750), ('num_batches', 391)]))])), ('aggregator', OrderedDict([('mean_value', ()), ('mean_weight', ())])), ('finalizer', OrderedDict([('update_non_finite', 0)]))]))\n",
            "round (27, OrderedDict([('distributor', ()), ('client_work', OrderedDict([('train', OrderedDict([('sparse_categorical_accuracy', 0.836), ('loss', 0.673245), ('num_examples', 7750), ('num_batches', 391)]))])), ('aggregator', OrderedDict([('mean_value', ()), ('mean_weight', ())])), ('finalizer', OrderedDict([('update_non_finite', 0)]))]))\n",
            "round (28, OrderedDict([('distributor', ()), ('client_work', OrderedDict([('train', OrderedDict([('sparse_categorical_accuracy', 0.8473548), ('loss', 0.6362564), ('num_examples', 7750), ('num_batches', 391)]))])), ('aggregator', OrderedDict([('mean_value', ()), ('mean_weight', ())])), ('finalizer', OrderedDict([('update_non_finite', 0)]))]))\n",
            "round (29, OrderedDict([('distributor', ()), ('client_work', OrderedDict([('train', OrderedDict([('sparse_categorical_accuracy', 0.8504516), ('loss', 0.62991476), ('num_examples', 7750), ('num_batches', 391)]))])), ('aggregator', OrderedDict([('mean_value', ()), ('mean_weight', ())])), ('finalizer', OrderedDict([('update_non_finite', 0)]))]))\n"
          ]
        }
      ],
      "source": [
        "# second of pair next  epresents a single round of Federated Averaging,\n",
        "# which consists of pushing the server state (including the model parameters) to the clients,\n",
        "# on-device training on their local data, collecting and averaging model updates,\n",
        "# and producing a new updated model at the server.\n",
        "# SERVER_STATE, FEDERATED_DATA -> SERVER_STATE, TRAINING_METRICS\n",
        "\n",
        "for round_num in range(1, 30):\n",
        "  state, metrics = iterative_process.next(state, federated_train_data)\n",
        "  print(f'round {round_num, metrics}')\n",
        "\n"
      ]
    },
    {
      "cell_type": "markdown",
      "metadata": {
        "id": "hF_bGeimrecc"
      },
      "source": [
        "Training loss seems to be converging."
      ]
    }
  ],
  "metadata": {
    "accelerator": "GPU",
    "colab": {
      "provenance": [],
      "include_colab_link": true
    },
    "kernelspec": {
      "display_name": "Python 3",
      "name": "python3"
    }
  },
  "nbformat": 4,
  "nbformat_minor": 0
}